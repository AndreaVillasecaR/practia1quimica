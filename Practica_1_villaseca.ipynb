{
  "nbformat": 4,
  "nbformat_minor": 0,
  "metadata": {
    "colab": {
      "provenance": [],
      "authorship_tag": "ABX9TyNijZi+FWdvJ4VHDV3IEeQa",
      "include_colab_link": true
    },
    "kernelspec": {
      "name": "python3",
      "display_name": "Python 3"
    },
    "language_info": {
      "name": "python"
    }
  },
  "cells": [
    {
      "cell_type": "markdown",
      "metadata": {
        "id": "view-in-github",
        "colab_type": "text"
      },
      "source": [
        "<a href=\"https://colab.research.google.com/github/AndreaVillasecaR/practia1quimica/blob/main/Practica_1_villaseca.ipynb\" target=\"_parent\"><img src=\"https://colab.research.google.com/assets/colab-badge.svg\" alt=\"Open In Colab\"/></a>"
      ]
    },
    {
      "cell_type": "markdown",
      "source": [
        "Pregunta 1: 1.1 Imprime la versión de python que usas y las palabras reservadas de\n",
        "python para esa versión."
      ],
      "metadata": {
        "id": "jfnuPhyJQDtt"
      }
    },
    {
      "cell_type": "code",
      "execution_count": null,
      "metadata": {
        "colab": {
          "base_uri": "https://localhost:8080/"
        },
        "id": "BOQI_qAkB_47",
        "outputId": "636d6a77-f5d5-4bd8-fd5e-4c09674deec7"
      },
      "outputs": [
        {
          "output_type": "stream",
          "name": "stdout",
          "text": [
            "Python 3.10.12\n",
            "\n",
            "Here is a list of the Python keywords.  Enter any keyword to get more help.\n",
            "\n",
            "False               class               from                or\n",
            "None                continue            global              pass\n",
            "True                def                 if                  raise\n",
            "and                 del                 import              return\n",
            "as                  elif                in                  try\n",
            "assert              else                is                  while\n",
            "async               except              lambda              with\n",
            "await               finally             nonlocal            yield\n",
            "break               for                 not                 \n",
            "\n"
          ]
        }
      ],
      "source": [
        "!python --version\n",
        "help(\"keywords\")\n"
      ]
    },
    {
      "cell_type": "markdown",
      "source": [
        "Pregunta 2: 1.2. Crea una matriz de 3x3 e imprime la suma de los elementos en su diagonal (traza)."
      ],
      "metadata": {
        "id": "5ydvNwZjQmaJ"
      }
    },
    {
      "cell_type": "code",
      "source": [
        "# Crear una matriz 3x3\n",
        "matriz = [\n",
        "    [1, 2, 3],\n",
        "    [4, 5, 6],\n",
        "    [7, 8, 9]\n",
        "]\n",
        "\n",
        "# Calcular la suma de los elementos en la diagonal (traza)\n",
        "suma_traza = 0\n",
        "for i in range(3):\n",
        "    suma_traza += matriz[i][i]\n",
        "\n",
        "# Imprimir el resultado de la traza\n",
        "print(\"Matriz:\")\n",
        "for fila in matriz:\n",
        "    print(fila)\n",
        "print(\"Suma de la diagonal (traza):\", suma_traza)"
      ],
      "metadata": {
        "id": "ZHhNp9QzPGTH",
        "outputId": "9f1805f7-fd93-4cc3-83bb-b23ed49c69ed",
        "colab": {
          "base_uri": "https://localhost:8080/"
        }
      },
      "execution_count": null,
      "outputs": [
        {
          "output_type": "stream",
          "name": "stdout",
          "text": [
            "Matriz:\n",
            "[1, 2, 3]\n",
            "[4, 5, 6]\n",
            "[7, 8, 9]\n",
            "Suma de la diagonal (traza): 15\n"
          ]
        }
      ]
    },
    {
      "cell_type": "markdown",
      "source": [
        "Pregunta 3: 1.3 Guarda como variable la masa atómica de los elementos C, H y O, e imprime la masa molecular del etanol."
      ],
      "metadata": {
        "id": "E4pLKoSYQwVW"
      }
    },
    {
      "cell_type": "code",
      "source": [
        "# Definir las masas atómicas de los elementos en unidades de masa atómica (u)\n",
        "masa_atomica_C = 12.01  # Carbono\n",
        "masa_atomica_H = 1.008  # Hidrógeno\n",
        "masa_atomica_O = 15.999  # Oxígeno\n",
        "\n",
        "# Definir la fórmula química del etanol (C2H5OH)\n",
        "num_atomos_C = 2\n",
        "num_atomos_H = 6\n",
        "num_atomos_O = 1\n",
        "\n",
        "# Calcular la masa molecular del etanol\n",
        "masa_molecular_etanol = (num_atomos_C * masa_atomica_C) + (num_atomos_H * masa_atomica_H) + (num_atomos_O * masa_atomica_O)\n",
        "\n",
        "# Imprimir la masa molecular del etanol\n",
        "print(\"Masa molecular del etanol (C2H5OH):\", masa_molecular_etanol, \"u\")"
      ],
      "metadata": {
        "colab": {
          "base_uri": "https://localhost:8080/"
        },
        "id": "jhONfA-Aea4I",
        "outputId": "6f0adae0-be4a-4a79-94e2-3df94be785c7"
      },
      "execution_count": null,
      "outputs": [
        {
          "output_type": "stream",
          "name": "stdout",
          "text": [
            "Masa molecular del etanol (C2H5OH): 46.067 u\n"
          ]
        }
      ]
    },
    {
      "cell_type": "markdown",
      "source": [
        "Pregunta 4: 1.4 Busca la temperatura de fusión en Celsius de 5 metales y guárdalos en una lista. Imprime las temperaturas en Kelvin"
      ],
      "metadata": {
        "id": "wpZnXbWPQ7-x"
      }
    },
    {
      "cell_type": "code",
      "source": [
        "# Temperaturas de fusión en Celsius de 5 metales\n",
        "temperaturas_celsius = {\n",
        "    \"Hierro\": 1538,\n",
        "    \"Cobre\": 1084,\n",
        "    \"Plata\": 961.8,\n",
        "    \"Oro\": 1064,\n",
        "    \"Aluminio\": 660.3\n",
        "}\n",
        "\n",
        "# Lista para almacenar las temperaturas en Kelvin\n",
        "temperaturas_kelvin = []\n",
        "\n",
        "# Conversión de Celsius a Kelvin: K = C + 273.15\n",
        "for metal, temperatura_celsius in temperaturas_celsius.items():\n",
        "    temperatura_kelvin = temperatura_celsius + 273.15\n",
        "    temperaturas_kelvin.append((metal, temperatura_kelvin))\n",
        "\n",
        "# Imprimir las temperaturas en Kelvin\n",
        "for metal, temperatura_kelvin in temperaturas_kelvin:\n",
        "    print(f\"{metal}: {temperatura_kelvin:.2f} K\")"
      ],
      "metadata": {
        "colab": {
          "base_uri": "https://localhost:8080/"
        },
        "id": "8XuE0LWEgc9Q",
        "outputId": "bed5dd21-d36a-415a-ee53-4a839dc37e87"
      },
      "execution_count": null,
      "outputs": [
        {
          "output_type": "stream",
          "name": "stdout",
          "text": [
            "Hierro: 1811.15 K\n",
            "Cobre: 1357.15 K\n",
            "Plata: 1234.95 K\n",
            "Oro: 1337.15 K\n",
            "Aluminio: 933.45 K\n"
          ]
        }
      ]
    },
    {
      "cell_type": "markdown",
      "source": [
        "Pregunta 2:\n",
        "Escribe un programa que lea repetidamente elementos químicos en español\n",
        "hasta que el usuario introduzca “fin”. Una vez se haya introducido “fin”,\n",
        "muestra por pantalla (o sea imprime) el total de elementos ingresados. Si\n",
        "el usuario introduce cualquier otra cosa que no sea un elemento químico,\n",
        "detecta su fallo usando try y except, muestra un mensaje de error y pasa\n",
        "al siguiente elemento."
      ],
      "metadata": {
        "id": "ThA7h_moRREE"
      }
    },
    {
      "cell_type": "code",
      "source": [
        "elementos_quimicos = set([\n",
        "    \"hidrogeno\", \"helio\", \"litio\", \"berilio\", \"boro\",\n",
        "    \"carbono\", \"nitrogeno\", \"oxigeno\", \"flúor\", \"neon\"\n",
        "])\n",
        "\n",
        "total_elementos = 0\n",
        "\n",
        "while True:\n",
        "    entrada = input(\"Introduce un elemento químico en español (o 'fin' para terminar): \").lower()\n",
        "\n",
        "    if entrada == \"fin\":\n",
        "        break\n",
        "\n",
        "    if entrada in elementos_quimicos:\n",
        "        total_elementos += 1\n",
        "    else:\n",
        "        print(\"Error: '{}' no es un elemento químico válido.\".format(entrada))\n",
        "\n",
        "print(\"Total de elementos ingresados:\", total_elementos)"
      ],
      "metadata": {
        "colab": {
          "base_uri": "https://localhost:8080/",
          "height": 443
        },
        "id": "rpCw4ssnRUpo",
        "outputId": "0919e881-3d75-4138-aeac-014b5ae9d31b"
      },
      "execution_count": null,
      "outputs": [
        {
          "output_type": "stream",
          "name": "stdout",
          "text": [
            "Introduce un elemento químico en español (o 'fin' para terminar): boro\n",
            "Introduce un elemento químico en español (o 'fin' para terminar): oxigenp\n",
            "Error: 'oxigenp' no es un elemento químico válido.\n"
          ]
        },
        {
          "output_type": "error",
          "ename": "KeyboardInterrupt",
          "evalue": "ignored",
          "traceback": [
            "\u001b[0;31m---------------------------------------------------------------------------\u001b[0m",
            "\u001b[0;31mKeyboardInterrupt\u001b[0m                         Traceback (most recent call last)",
            "\u001b[0;32m<ipython-input-1-f455d85e4e0f>\u001b[0m in \u001b[0;36m<cell line: 8>\u001b[0;34m()\u001b[0m\n\u001b[1;32m      7\u001b[0m \u001b[0;34m\u001b[0m\u001b[0m\n\u001b[1;32m      8\u001b[0m \u001b[0;32mwhile\u001b[0m \u001b[0;32mTrue\u001b[0m\u001b[0;34m:\u001b[0m\u001b[0;34m\u001b[0m\u001b[0;34m\u001b[0m\u001b[0m\n\u001b[0;32m----> 9\u001b[0;31m     \u001b[0mentrada\u001b[0m \u001b[0;34m=\u001b[0m \u001b[0minput\u001b[0m\u001b[0;34m(\u001b[0m\u001b[0;34m\"Introduce un elemento químico en español (o 'fin' para terminar): \"\u001b[0m\u001b[0;34m)\u001b[0m\u001b[0;34m.\u001b[0m\u001b[0mlower\u001b[0m\u001b[0;34m(\u001b[0m\u001b[0;34m)\u001b[0m\u001b[0;34m\u001b[0m\u001b[0;34m\u001b[0m\u001b[0m\n\u001b[0m\u001b[1;32m     10\u001b[0m \u001b[0;34m\u001b[0m\u001b[0m\n\u001b[1;32m     11\u001b[0m     \u001b[0;32mif\u001b[0m \u001b[0mentrada\u001b[0m \u001b[0;34m==\u001b[0m \u001b[0;34m\"fin\"\u001b[0m\u001b[0;34m:\u001b[0m\u001b[0;34m\u001b[0m\u001b[0;34m\u001b[0m\u001b[0m\n",
            "\u001b[0;32m/usr/local/lib/python3.10/dist-packages/ipykernel/kernelbase.py\u001b[0m in \u001b[0;36mraw_input\u001b[0;34m(self, prompt)\u001b[0m\n\u001b[1;32m    849\u001b[0m                 \u001b[0;34m\"raw_input was called, but this frontend does not support input requests.\"\u001b[0m\u001b[0;34m\u001b[0m\u001b[0;34m\u001b[0m\u001b[0m\n\u001b[1;32m    850\u001b[0m             )\n\u001b[0;32m--> 851\u001b[0;31m         return self._input_request(str(prompt),\n\u001b[0m\u001b[1;32m    852\u001b[0m             \u001b[0mself\u001b[0m\u001b[0;34m.\u001b[0m\u001b[0m_parent_ident\u001b[0m\u001b[0;34m,\u001b[0m\u001b[0;34m\u001b[0m\u001b[0;34m\u001b[0m\u001b[0m\n\u001b[1;32m    853\u001b[0m             \u001b[0mself\u001b[0m\u001b[0;34m.\u001b[0m\u001b[0m_parent_header\u001b[0m\u001b[0;34m,\u001b[0m\u001b[0;34m\u001b[0m\u001b[0;34m\u001b[0m\u001b[0m\n",
            "\u001b[0;32m/usr/local/lib/python3.10/dist-packages/ipykernel/kernelbase.py\u001b[0m in \u001b[0;36m_input_request\u001b[0;34m(self, prompt, ident, parent, password)\u001b[0m\n\u001b[1;32m    893\u001b[0m             \u001b[0;32mexcept\u001b[0m \u001b[0mKeyboardInterrupt\u001b[0m\u001b[0;34m:\u001b[0m\u001b[0;34m\u001b[0m\u001b[0;34m\u001b[0m\u001b[0m\n\u001b[1;32m    894\u001b[0m                 \u001b[0;31m# re-raise KeyboardInterrupt, to truncate traceback\u001b[0m\u001b[0;34m\u001b[0m\u001b[0;34m\u001b[0m\u001b[0m\n\u001b[0;32m--> 895\u001b[0;31m                 \u001b[0;32mraise\u001b[0m \u001b[0mKeyboardInterrupt\u001b[0m\u001b[0;34m(\u001b[0m\u001b[0;34m\"Interrupted by user\"\u001b[0m\u001b[0;34m)\u001b[0m \u001b[0;32mfrom\u001b[0m \u001b[0;32mNone\u001b[0m\u001b[0;34m\u001b[0m\u001b[0;34m\u001b[0m\u001b[0m\n\u001b[0m\u001b[1;32m    896\u001b[0m             \u001b[0;32mexcept\u001b[0m \u001b[0mException\u001b[0m \u001b[0;32mas\u001b[0m \u001b[0me\u001b[0m\u001b[0;34m:\u001b[0m\u001b[0;34m\u001b[0m\u001b[0;34m\u001b[0m\u001b[0m\n\u001b[1;32m    897\u001b[0m                 \u001b[0mself\u001b[0m\u001b[0;34m.\u001b[0m\u001b[0mlog\u001b[0m\u001b[0;34m.\u001b[0m\u001b[0mwarning\u001b[0m\u001b[0;34m(\u001b[0m\u001b[0;34m\"Invalid Message:\"\u001b[0m\u001b[0;34m,\u001b[0m \u001b[0mexc_info\u001b[0m\u001b[0;34m=\u001b[0m\u001b[0;32mTrue\u001b[0m\u001b[0;34m)\u001b[0m\u001b[0;34m\u001b[0m\u001b[0;34m\u001b[0m\u001b[0m\n",
            "\u001b[0;31mKeyboardInterrupt\u001b[0m: Interrupted by user"
          ]
        }
      ]
    },
    {
      "cell_type": "markdown",
      "source": [
        "Demuestra cómo se cumple la conservación de la masa en la siguiente reacción química. Sugerencia: hacer un balance estequiométrico y luego emplear la masa molecular de reactivos y productos."
      ],
      "metadata": {
        "id": "OVRhAzaVmD86"
      }
    },
    {
      "cell_type": "code",
      "source": [
        "SmilesDrawer(value=[(\"Rxn\", \"C(C1C(C(C(C(O1)O)O)O)O)O.O=O>>C(=O)=O.O\")], theme='dark', background=\"#1e1e1e\", options={'scale': 1.25})"
      ],
      "metadata": {
        "colab": {
          "base_uri": "https://localhost:8080/",
          "height": 176
        },
        "id": "6k2CFlwQSpwG",
        "outputId": "6dbc2c78-372d-4ee9-e0d4-529ba13246ae"
      },
      "execution_count": null,
      "outputs": [
        {
          "output_type": "error",
          "ename": "NameError",
          "evalue": "ignored",
          "traceback": [
            "\u001b[0;31m---------------------------------------------------------------------------\u001b[0m",
            "\u001b[0;31mNameError\u001b[0m                                 Traceback (most recent call last)",
            "\u001b[0;32m<ipython-input-2-cc5279ebb19e>\u001b[0m in \u001b[0;36m<cell line: 1>\u001b[0;34m()\u001b[0m\n\u001b[0;32m----> 1\u001b[0;31m \u001b[0mSmilesDrawer\u001b[0m\u001b[0;34m(\u001b[0m\u001b[0mvalue\u001b[0m\u001b[0;34m=\u001b[0m\u001b[0;34m[\u001b[0m\u001b[0;34m(\u001b[0m\u001b[0;34m\"Rxn\"\u001b[0m\u001b[0;34m,\u001b[0m \u001b[0;34m\"C(C1C(C(C(C(O1)O)O)O)O)O.O=O>>C(=O)=O.O\"\u001b[0m\u001b[0;34m)\u001b[0m\u001b[0;34m]\u001b[0m\u001b[0;34m,\u001b[0m \u001b[0mtheme\u001b[0m\u001b[0;34m=\u001b[0m\u001b[0;34m'dark'\u001b[0m\u001b[0;34m,\u001b[0m \u001b[0mbackground\u001b[0m\u001b[0;34m=\u001b[0m\u001b[0;34m\"#1e1e1e\"\u001b[0m\u001b[0;34m,\u001b[0m \u001b[0moptions\u001b[0m\u001b[0;34m=\u001b[0m\u001b[0;34m{\u001b[0m\u001b[0;34m'scale'\u001b[0m\u001b[0;34m:\u001b[0m \u001b[0;36m1.25\u001b[0m\u001b[0;34m}\u001b[0m\u001b[0;34m)\u001b[0m\u001b[0;34m\u001b[0m\u001b[0;34m\u001b[0m\u001b[0m\n\u001b[0m",
            "\u001b[0;31mNameError\u001b[0m: name 'SmilesDrawer' is not defined"
          ]
        }
      ]
    },
    {
      "cell_type": "markdown",
      "source": [],
      "metadata": {
        "id": "_JONcshZTHid"
      }
    },
    {
      "cell_type": "markdown",
      "source": [
        "Imprime las siguientes operaciones según la notación científica:\n",
        "\n",
        "(1) $1.321 \\times 10^{-4} + 8.5 \\times 10^{-2}$\n",
        "\n",
        "(2) $1.71 \\times 10^{3} - 2.01 \\times 10^{2}\\$\n",
        "\n",
        "(3) $(7.4 \\times 10^5)(7.2 \\times 10^4)$\n",
        "\n",
        "(4) $(7.4 \\times 10^5)/(7.2 \\times 10^4)$"
      ],
      "metadata": {
        "id": "NIkI45Xdqqnt"
      }
    },
    {
      "cell_type": "code",
      "source": [
        "# Operación (1)\n",
        "result1 = 1.321e-4 + 8.5e-2\n",
        "print(\"Resultado de la operación (1):\", result1)\n",
        "\n",
        "# Operación (2)\n",
        "result2 = 1.71e3 - 2.01e2\n",
        "print(\"Resultado de la operación (2):\", result2)\n",
        "\n",
        "# Operación (3)\n",
        "result3 = (7.4e5) * (7.2e4)\n",
        "print(\"Resultado de la operación (3):\", result3)\n",
        "\n",
        "# Operación (4)\n",
        "result4 = (7.4e5) / (7.2e4)\n",
        "print(\"Resultado de la operación (4):\", result4)"
      ],
      "metadata": {
        "id": "w4QFaeJETGf-"
      },
      "execution_count": null,
      "outputs": []
    },
    {
      "cell_type": "markdown",
      "source": [
        "Leer el artículo \"Cómo la ciencia demostró que Lk99 no es superconector\" y explicar cómo es aplicado el método\n",
        "científico. Emplea como máximo 300 palabras."
      ],
      "metadata": {
        "id": "JKAmOGeAZypW"
      }
    },
    {
      "cell_type": "markdown",
      "source": [
        "\n",
        "\n",
        "El texto trata sobre Lk99, que en un inició se vendió como un superconductor pero que después se puso en evidencia que no era asi porque diferentes cientificos no podían replicar el experimento.\n",
        "\n",
        "Es importante en la ciencia poder replicar los experimentos en cualquier parte del mundo. Estas propiedades se habian atribuido por explicaciones de levitación sobre imán y caida abrupta de la resistividad.\n",
        "\n",
        "A pesar que se difundió un video por las redes de la supuesta levitación, los mismos cientificos no mostraron interés en rehacer ese experimento de nuevo. Actualmente, vemos en el internet muchas personas probando las hipótesis o ciertos experimentos de otras personas esto es muy importancia pues crear confianza y creibilidad.\n",
        "\n",
        "También es importante con VanGennep al observar el video, intenta recrear el experimento. El estaba usando el método cientifico el cual se basa en observación y formulación de la interrogante. Otros científicos también pusieron a prueba sus dudas sobre este \"superconductor\"\n",
        "\n",
        "La comunidad estaba convencida de que LK-99 era no es un superconductor a temperatura ambiente. Pero Los misterios persistían: a saber, ¿cuáles eran los ¿Las propiedades reales del material?\n",
        "Finalmente, se concluyó que  los indicios de la super conductividad observada en LK-99 fue causada por  Impurezas de Cu2S, que están ausentes en sus cristales.\n",
        "\n",
        "Así podemos concluir que la ciencia debe ser replicable en cualquier parte del mundo y también se debe proveer la información suficiente para que el experimento o la información que se presenta lo sea, porque en la mayoria de estos casos cada cientifico tuvo que usar su propia hipotesis y diseñar su propio experimento."
      ],
      "metadata": {
        "id": "-9AxkWjDaHzf"
      }
    }
  ]
}